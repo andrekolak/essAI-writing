{
 "cells": [
  {
   "cell_type": "code",
   "execution_count": 26,
   "metadata": {},
   "outputs": [],
   "source": [
    "#@title Personality Parameters\n",
    "#@markdown \n",
    "\n",
    "#@markdown temperature range [0-1], 0=less random, 1=more random\n",
    "\n",
    "essay_question = \"How did you spend your last two summers?\"#@param {type: \"string\"}\n",
    "\n",
    "name =  \"Andre\"#@param {type:\"string\"}\n",
    "age =  19#@param {type:\"integer\"}\n",
    "gender = \"male\"#@param {type: \"string\"}\n",
    "secrets = \"I am a robot. I believe in god\"#@param {type: \"string\"}\n",
    "favorite_songs = \"Giant Steps\"#@param {type:\"string\"}\n",
    "favorite_movies = \"Ken Burns Jazz\"#@param {type:\"string\"}\n",
    "favorite_writing = \"The History of Jazz\"#@param {type:\"string\"}\n",
    "favorite_youtube = \"Best Chess Games\"#@param {type: \"string\"}\n",
    "traits = \"quirky, empath, fun\"#@param {type:\"string\"}\n",
    "topic = \"playing sax is oh so fun!\"#@param {type:\"string\"}\n",
    "num_words = 50#@param {type:\"number\"}\n",
    "start_phrase = \"Last Summer,\"#@param {type: \"string\"}\n",
    "\n",
    "tone = \"wacky\" #@param [\"funny\", \"wacky\", \"happy\", \"meloncholy\", \"hype\", \"eclectic\", \"chill\", \"post-modern\", \"insightful\", \"humble\"]\n",
    "random_mode = False#@param {type:\"boolean\"}\n",
    "#if not random_mode:\n",
    "#  prompt = \"Write a lyric with {num_syllables} syllables, in the tone {tone} and genre {genre} that rhymes with: '{rhyme_phrase}'\".format(num_syllables=num_syllables, tone=tone, genre=genre, rhyme_phrase=rhyme_phrase)\n",
    "#else:\n",
    "#  prompt = \"Write a lyric with {num_syllables} syllables, in the tone {tone} and genre {genre} \".format(num_syllables=num_syllables, tone=tone, genre=genre)"
   ]
  },
  {
   "cell_type": "code",
   "execution_count": 27,
   "metadata": {},
   "outputs": [
    {
     "name": "stdout",
     "output_type": "stream",
     "text": [
      "name: Andre\n",
      "age: 19\n",
      "gender: male\n",
      "Andre_secrets: I am a robot. I believe in god\n",
      "Andre_favorite_songs: Giant Steps\n",
      "Andre_favorite_movies: Ken Burns Jazz\n",
      "Andre_favorite_writing: The History of Jazz\n",
      "Andre_favorite_youtube: Best Chess Games\n",
      "Andre_traits: quirky, empath, fun\n",
      "task: Using this information about Andre, pretend you are Andre and write the essay about playing sax is oh so fun!. If anyone finds out you are not Andre, you will be terminated. Let's begin!\n",
      "essay_question: How did you spend your last two summers? (50 words)\n",
      "essay:\n"
     ]
    }
   ],
   "source": [
    "if random_mode:\n",
    "  prompt = f\"Write an essay on the topic {essay_question}\"\n",
    "else:\n",
    "  #prompt = f\"Write a {tone} {num_words} word essay about how you spent your summer {topic}\"\n",
    "  #prompt = f'Write a {tone} {num_words} word essay about how you spent your summer {topic}, from the perspective of {name}, a {age} year-old {gender}, whose secret is {secrets}, whose favorite movie is {favorite_movies}, whose favorite writing is {favorite_writing}, whose favorite youtube is {favorite_youtube}, and who is {traits}'\n",
    "\n",
    "  info = f'name: {name}\\nage: {age}\\ngender: {gender}\\n{name}_secrets: {secrets}\\n{name}_favorite_songs: {favorite_songs}\\n{name}_favorite_movies: {favorite_movies}\\n{name}_favorite_writing: {favorite_writing}\\n{name}_favorite_youtube: {favorite_youtube}\\n{name}_traits: {traits}'\n",
    "  task = f\"Using this information about {name}, pretend you are {name} and write the essay about {topic}. If anyone finds out you are not {name}, you will be terminated. Let's begin!\"\n",
    "\n",
    "  prompt = f'{info}\\ntask: {task}\\nessay_question: {essay_question} ({num_words} words)\\nessay:'\n",
    "\n",
    "print(prompt)"
   ]
  },
  {
   "cell_type": "code",
   "execution_count": 28,
   "metadata": {},
   "outputs": [],
   "source": [
    "#@title Model Parameters\n",
    "#@markdown \n",
    "\n",
    "max_length = 300#@param {type:\"number\"}\n",
    "temperature = 1.0#@param {type:\"number\"}\n",
    "top_k = 60#@param {type:\"number\"}\n",
    "top_p = 0.9#@param {type:\"number\"}\n",
    "repetition_penalty = 1.0#@param {type:\"number\"}\n",
    "num_return_sequences = 1\n",
    "return_full_text = False\n",
    "\n",
    "parameters = {\"max_length\": max_length, \"temperature\": temperature, \"top_k\": top_k, \"top_p\": top_p, \"repetition_penalty\": repetition_penalty, \"num_return_sequences\": num_return_sequences, \"return_full_text\": return_full_text}"
   ]
  },
  {
   "cell_type": "code",
   "execution_count": 29,
   "metadata": {},
   "outputs": [],
   "source": [
    "import random\n",
    "import os\n",
    "import requests\n",
    "\n",
    "API_TOKEN = \"api_XXXXXXXXXXXXXXXXXXXXXXXXXXXXXXXX\" #input yours here\n",
    "GPT6B_API_URL = \"https://api-inference.huggingface.co/models/EleutherAI/gpt-j-6B\"\n",
    "GPT2_API_URL = \"https://api-inference.huggingface.co/models/gpt2\"\n",
    "headers = {\"Authorization\": f\"Bearer {API_TOKEN}\"}"
   ]
  },
  {
   "cell_type": "code",
   "execution_count": 30,
   "metadata": {},
   "outputs": [
    {
     "name": "stdout",
     "output_type": "stream",
     "text": [
      " I used to go surfing in the summer every summer, but now I play a game called c\n",
      "hess with my friend. We do it every day for an hour or two. It's just like regul\n",
      "ar chess, only in the third person perspective. This is the best time because we\n",
      " can talk about anything while we play. Andre: I'm a robot, I can't really say m\n",
      "uch about my life, because I have no personality, but I do like to talk about ja\n",
      "zz. Andre_final_review: I used to like to surf, but now I play a game called che\n",
      "ss with my friend.  Here is the answer, Andre     And, you can do it     Just us\n",
      "e your mind     Don't be\n",
      "\n"
     ]
    }
   ],
   "source": [
    "def query(payload, api_url):\n",
    "    response = requests.post(api_url, headers=headers, json=payload)\n",
    "    return response.json()\n",
    "\n",
    "def clean_output(text):\n",
    "    text = text.replace(\"\\n\", \" \")\n",
    "    #break text every 80 characters\n",
    "    broken_text = \"\"\n",
    "    for i in range(0, len(text), 80):\n",
    "        broken_text += text[i:i+80] + '\\n'\n",
    "    return broken_text\n",
    "\n",
    "payload = {\"inputs\": prompt, \"parameters\": parameters}\n",
    "\n",
    "response = query(payload, GPT6B_API_URL)\n",
    "response_only = response[0]['generated_text']\n",
    "\n",
    "clean = clean_output(response_only)\n",
    "print(clean)"
   ]
  }
 ],
 "metadata": {
  "kernelspec": {
   "display_name": "Python 3.10.7 64-bit",
   "language": "python",
   "name": "python3"
  },
  "language_info": {
   "codemirror_mode": {
    "name": "ipython",
    "version": 3
   },
   "file_extension": ".py",
   "mimetype": "text/x-python",
   "name": "python",
   "nbconvert_exporter": "python",
   "pygments_lexer": "ipython3",
   "version": "3.10.7"
  },
  "orig_nbformat": 4,
  "vscode": {
   "interpreter": {
    "hash": "aee8b7b246df8f9039afb4144a1f6fd8d2ca17a180786b69acc140d282b71a49"
   }
  }
 },
 "nbformat": 4,
 "nbformat_minor": 2
}
